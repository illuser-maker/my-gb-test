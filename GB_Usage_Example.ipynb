{
 "cells": [
  {
   "cell_type": "code",
   "execution_count": 1,
   "metadata": {},
   "outputs": [],
   "source": [
    "from sklearn.datasets import make_regression\n",
    "from sklearn.model_selection import train_test_split"
   ]
  },
  {
   "cell_type": "code",
   "execution_count": 2,
   "metadata": {},
   "outputs": [],
   "source": [
    "from MyGradientBoosting import MyGradientBoostingRegressor"
   ]
  },
  {
   "cell_type": "code",
   "execution_count": 3,
   "metadata": {},
   "outputs": [],
   "source": [
    "X, y = make_regression(n_samples=10000, random_state=42)\n",
    "X_train, X_test, y_train, y_test = train_test_split(X, y, test_size=0.3, random_state=42)"
   ]
  },
  {
   "cell_type": "code",
   "execution_count": 4,
   "metadata": {},
   "outputs": [
    {
     "name": "stdout",
     "output_type": "stream",
     "text": [
      "Iteration: 2\tTrain metric:   24909.8208\tEval metric:  28198.6938\n",
      "Iteration: 4\tTrain metric:   16343.3334\tEval metric:  22624.5284\n",
      "Iteration: 6\tTrain metric:   10722.8611\tEval metric:  19403.0640\n",
      "Iteration: 8\tTrain metric:    7035.2691\tEval metric:  17667.7310\n",
      "Iteration: 10\tTrain metric:    4615.8401\tEval metric:  16766.2863\n",
      "Iteration: 12\tTrain metric:    3028.4527\tEval metric:  16421.2330\n",
      "Iteration: 14\tTrain metric:    1986.9678\tEval metric:  16367.2848\n",
      "Iteration: 16\tTrain metric:    1303.6496\tEval metric:  16476.1017\n",
      "Iteration: 18\tTrain metric:     855.3245\tEval metric:  16663.9793\n",
      "Iteration: 20\tTrain metric:     561.1784\tEval metric:  16891.1127\n",
      "Final Metric: 561.1783953433928\n"
     ]
    },
    {
     "data": {
      "text/plain": [
       "<MyGradientBoosting.MyGradientBoostingRegressor at 0x181044bc408>"
      ]
     },
     "execution_count": 4,
     "metadata": {},
     "output_type": "execute_result"
    }
   ],
   "source": [
    "model = MyGradientBoostingRegressor()\n",
    "model.fit(X_train, y_train, iterations=20, verbose=2, eval_set=[X_test, y_test])"
   ]
  },
  {
   "cell_type": "code",
   "execution_count": 5,
   "metadata": {},
   "outputs": [],
   "source": [
    "from sklearn.metrics import mean_absolute_error"
   ]
  },
  {
   "cell_type": "code",
   "execution_count": 7,
   "metadata": {},
   "outputs": [
    {
     "name": "stdout",
     "output_type": "stream",
     "text": [
      "Iteration: 2\tTrain metric:     125.9533\tEval metric:    134.3645\n",
      "Iteration: 4\tTrain metric:     102.0222\tEval metric:    119.9609\n",
      "Iteration: 6\tTrain metric:      82.6380\tEval metric:    110.8668\n",
      "Iteration: 8\tTrain metric:      66.9368\tEval metric:    105.3964\n",
      "Iteration: 10\tTrain metric:      54.2188\tEval metric:    102.4285\n",
      "Iteration: 12\tTrain metric:      43.9172\tEval metric:    101.1926\n",
      "Iteration: 14\tTrain metric:      35.5729\tEval metric:    101.0433\n",
      "Iteration: 16\tTrain metric:      28.8141\tEval metric:    101.4456\n",
      "Iteration: 18\tTrain metric:      23.3394\tEval metric:    102.1303\n",
      "Iteration: 20\tTrain metric:      18.9049\tEval metric:    102.9279\n",
      "Final Metric: 18.904920363584434\n"
     ]
    },
    {
     "data": {
      "text/plain": [
       "<MyGradientBoosting.MyGradientBoostingRegressor at 0x19353c0e188>"
      ]
     },
     "execution_count": 7,
     "metadata": {},
     "output_type": "execute_result"
    }
   ],
   "source": [
    "model = MyGradientBoostingRegressor(metric=mean_absolute_error)\n",
    "model.fit(X_train, y_train, iterations=20, verbose=2, eval_set=[X_test, y_test])"
   ]
  }
 ],
 "metadata": {
  "kernelspec": {
   "display_name": "Python 3",
   "language": "python",
   "name": "python3"
  },
  "language_info": {
   "codemirror_mode": {
    "name": "ipython",
    "version": 3
   },
   "file_extension": ".py",
   "mimetype": "text/x-python",
   "name": "python",
   "nbconvert_exporter": "python",
   "pygments_lexer": "ipython3",
   "version": "3.7.4"
  },
  "toc": {
   "base_numbering": 1,
   "nav_menu": {},
   "number_sections": true,
   "sideBar": true,
   "skip_h1_title": false,
   "title_cell": "Table of Contents",
   "title_sidebar": "Contents",
   "toc_cell": false,
   "toc_position": {},
   "toc_section_display": true,
   "toc_window_display": false
  }
 },
 "nbformat": 4,
 "nbformat_minor": 4
}
